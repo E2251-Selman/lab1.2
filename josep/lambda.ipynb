{
 "cells": [
  {
   "cell_type": "code",
   "execution_count": 2,
   "metadata": {
    "tags": []
   },
   "outputs": [
    {
     "output_type": "stream",
     "name": "stdout",
     "text": "yawsuralc\n"
    }
   ],
   "source": [
    "iterable = \"clarusway\"\n",
    "reveerse = (lambda x : x[::-1])(iterable)\n",
    "print(reveerse)"
   ]
  },
  {
   "cell_type": "code",
   "execution_count": 14,
   "metadata": {
    "tags": []
   },
   "outputs": [
    {
     "output_type": "stream",
     "name": "stdout",
     "text": "-12 : Cift\n21 : Tek\n10 : Cift\n2 : Cift\n3 : Tek\n4 : Cift\n"
    }
   ],
   "source": [
    "sayilar = [-12, 21, 10, 2, 3, 4]\n",
    "for x in sayilar:\n",
    "    print(x, \":\", (lambda a : \"Tek\" if a % 2 != 0 else \"Cift\")(x))"
   ]
  },
  {
   "cell_type": "code",
   "execution_count": null,
   "metadata": {},
   "outputs": [],
   "source": []
  }
 ],
 "metadata": {
  "language_info": {
   "codemirror_mode": {
    "name": "ipython",
    "version": 3
   },
   "file_extension": ".py",
   "mimetype": "text/x-python",
   "name": "python",
   "nbconvert_exporter": "python",
   "pygments_lexer": "ipython3",
   "version": 3
  },
  "orig_nbformat": 2,
  "kernelspec": {
   "name": "python_defaultSpec_1594928282964",
   "display_name": "Python 3.8.2 32-bit"
  }
 },
 "nbformat": 4,
 "nbformat_minor": 2
}