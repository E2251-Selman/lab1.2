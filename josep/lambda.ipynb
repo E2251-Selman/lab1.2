{
 "cells": [
  {
   "cell_type": "code",
   "execution_count": 1,
   "metadata": {
    "tags": []
   },
   "outputs": [
    {
     "output_type": "stream",
     "name": "stdout",
     "text": "yawsuralc\n"
    }
   ],
   "source": [
    "iterable = \"clarusway\"\n",
    "reveerse = (lambda x : x[::-1])(iterable)\n",
    "print(reveerse)"
   ]
  },
  {
   "cell_type": "code",
   "execution_count": 2,
   "metadata": {
    "tags": []
   },
   "outputs": [
    {
     "output_type": "stream",
     "name": "stdout",
     "text": "-12 : Cift\n21 : Tek\n10 : Cift\n2 : Cift\n3 : Tek\n4 : Cift\n"
    }
   ],
   "source": [
    "sayilar = [-12, 21, 10, 2, 3, 4]\n",
    "for x in sayilar:\n",
    "    print(x, \":\", (lambda a : \"Tek\" if a % 2 != 0 else \"Cift\")(x))"
   ]
  },
  {
   "cell_type": "code",
   "execution_count": 3,
   "metadata": {
    "tags": []
   },
   "outputs": [
    {
     "output_type": "stream",
     "name": "stdout",
     "text": "4.0\n"
    }
   ],
   "source": [
    "averge = lambda x, y: (x+y)/2\n",
    "print(averge(3, 5))"
   ]
  },
  {
   "cell_type": "code",
   "execution_count": 6,
   "metadata": {
    "tags": []
   },
   "outputs": [],
   "source": [
    "\n",
    "ters =(lambda x : x[::-1])\n"
   ]
  },
  {
   "cell_type": "code",
   "execution_count": 7,
   "metadata": {},
   "outputs": [
    {
     "output_type": "execute_result",
     "data": {
      "text/plain": "'yawsuralc'"
     },
     "metadata": {},
     "execution_count": 7
    }
   ],
   "source": [
    "ters(\"clarusway\")"
   ]
  },
  {
   "cell_type": "code",
   "execution_count": 11,
   "metadata": {
    "tags": []
   },
   "outputs": [
    {
     "output_type": "stream",
     "name": "stdout",
     "text": "<class 'map'>\n[1, 4, 9, 16, 25]\n"
    }
   ],
   "source": [
    "iteer = [1, 2, 3, 4, 5]\n",
    "map(lambda x:x**2, iteer)\n",
    "result = map(lambda x:x**2, iteer)\n",
    "print(type(result))\n",
    "print(list(result))\n"
   ]
  },
  {
   "cell_type": "code",
   "execution_count": 12,
   "metadata": {},
   "outputs": [],
   "source": [
    "def kare(a):\n",
    "    return a**2"
   ]
  },
  {
   "cell_type": "code",
   "execution_count": 15,
   "metadata": {
    "tags": []
   },
   "outputs": [
    {
     "output_type": "stream",
     "name": "stdout",
     "text": "[1, 4, 9, 16, 25]\n"
    }
   ],
   "source": [
    "dene = map(kare, iteer)\n",
    "print(list(dene))"
   ]
  },
  {
   "cell_type": "code",
   "execution_count": 20,
   "metadata": {
    "tags": []
   },
   "outputs": [
    {
     "output_type": "stream",
     "name": "stdout",
     "text": "['one', 'six', 'ten', 'two']\n"
    }
   ],
   "source": [
    "letter1 = [\"o\", \"s\", \"t\", \"t\"]\n",
    "letter2 = [\"n\", \"i\", \"e\", \"w\"]\n",
    "letter3 = [\"e\", \"x\", \"n\", \"o\"]\n",
    "numbers = map(lambda x, y, z : x+y+z, letter1, letter2, letter3)\n",
    "print(list(numbers))"
   ]
  },
  {
   "cell_type": "code",
   "execution_count": 24,
   "metadata": {
    "tags": []
   },
   "outputs": [
    {
     "output_type": "stream",
     "name": "stdout",
     "text": "[6.0, 6.0, 6.0, 6.0]\n"
    }
   ],
   "source": [
    "nums1 = [9, 6, 7, 4]\n",
    "nums2 = [3, 6, 5, 8]\n",
    "veri = map(lambda x, y: (x+y)/2, nums1, nums2)\n",
    "print(list(veri))"
   ]
  },
  {
   "cell_type": "code",
   "execution_count": 30,
   "metadata": {
    "tags": []
   },
   "outputs": [
    {
     "output_type": "stream",
     "name": "stdout",
     "text": "['i love you', 'you ate much', 'he works hard']\n"
    }
   ],
   "source": [
    "words1 =[\"you\", \"much\", \"hard\"]\n",
    "words2 =[\"i\", \"you\", \"he\"]\n",
    "words3 =[\"love\", \"ate\", \"works\"]\n",
    "islem = map(lambda x, y, z: y+ \" \"+z+\" \"+x, words1, words2, words3 )\n",
    "print(list(islem))"
   ]
  },
  {
   "cell_type": "code",
   "execution_count": 31,
   "metadata": {
    "tags": []
   },
   "outputs": [
    {
     "output_type": "stream",
     "name": "stdout",
     "text": "i love you\nyou ate much\nhe works hard\n"
    }
   ],
   "source": [
    "words1 =[\"you\", \"much\", \"hard\"]\n",
    "words2 =[\"i\", \"you\", \"he\"]\n",
    "words3 =[\"love\", \"ate\", \"works\"]\n",
    "islem = map(lambda x, y, z: y+ \" \"+z+\" \"+x, words1, words2, words3 )\n",
    "for i in islem:\n",
    "    print(i)"
   ]
  },
  {
   "cell_type": "code",
   "execution_count": 33,
   "metadata": {},
   "outputs": [
    {
     "output_type": "execute_result",
     "data": {
      "text/plain": "[0, 1, 2, 3, 4, 5, 6, 7, 8, 9]"
     },
     "metadata": {},
     "execution_count": 33
    }
   ],
   "source": [
    "firts_ten = list(range(0, 10))\n",
    "firts_ten"
   ]
  },
  {
   "cell_type": "code",
   "execution_count": 34,
   "metadata": {
    "tags": []
   },
   "outputs": [
    {
     "output_type": "stream",
     "name": "stdout",
     "text": "<class 'filter'>\nEven numbers are:  [0, 2, 4, 6, 8]\n"
    }
   ],
   "source": [
    "even = filter(lambda x:x%2==0, firts_ten)\n",
    "print(type(even))\n",
    "\n",
    "print('Even numbers are: ', list(even))"
   ]
  },
  {
   "cell_type": "code",
   "execution_count": 64,
   "metadata": {},
   "outputs": [],
   "source": [
    "words = [\"apple\", \"swim\", \"clock\", \"me\", \"kiwi\", \"banana\"]\n"
   ]
  },
  {
   "cell_type": "code",
   "execution_count": 65,
   "metadata": {},
   "outputs": [],
   "source": [
    "def bes(x):\n",
    "    return len(x)>5"
   ]
  },
  {
   "cell_type": "code",
   "execution_count": 66,
   "metadata": {
    "tags": []
   },
   "outputs": [
    {
     "output_type": "stream",
     "name": "stdout",
     "text": "banana\n"
    }
   ],
   "source": [
    "for i in filter(bes, words):\n",
    "    print(i)"
   ]
  },
  {
   "cell_type": "code",
   "execution_count": 70,
   "metadata": {
    "tags": []
   },
   "outputs": [
    {
     "output_type": "stream",
     "name": "stdout",
     "text": "banana\n"
    }
   ],
   "source": [
    "for j in filter(lambda x : len(x)>5, words):\n",
    "    print(j)"
   ]
  },
  {
   "cell_type": "code",
   "execution_count": null,
   "metadata": {},
   "outputs": [],
   "source": []
  }
 ],
 "metadata": {
  "language_info": {
   "codemirror_mode": {
    "name": "ipython",
    "version": 3
   },
   "file_extension": ".py",
   "mimetype": "text/x-python",
   "name": "python",
   "nbconvert_exporter": "python",
   "pygments_lexer": "ipython3",
   "version": 3
  },
  "orig_nbformat": 2,
  "kernelspec": {
   "name": "python_defaultSpec_1595090468384",
   "display_name": "Python 3.8.2 32-bit"
  }
 },
 "nbformat": 4,
 "nbformat_minor": 2
}