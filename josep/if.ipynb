{
 "metadata": {
  "language_info": {
   "codemirror_mode": {
    "name": "ipython",
    "version": 3
   },
   "file_extension": ".py",
   "mimetype": "text/x-python",
   "name": "python",
   "nbconvert_exporter": "python",
   "pygments_lexer": "ipython3",
   "version": 3
  },
  "orig_nbformat": 2,
  "kernelspec": {
   "name": "python_defaultSpec_1595019954756",
   "display_name": "Python 3.8.2 32-bit"
  }
 },
 "nbformat": 4,
 "nbformat_minor": 2,
 "cells": [
  {
   "cell_type": "code",
   "execution_count": 1,
   "metadata": {
    "tags": []
   },
   "outputs": [
    {
     "output_type": "stream",
     "name": "stdout",
     "text": "We are the same!\n"
    }
   ],
   "source": [
    "tw = set('TWELVE PLUS ONE')\n",
    "el = set('ELEVEN PLUSTWO')\n",
    "if tw == el:\n",
    "    print('We are the same!')"
   ]
  },
  {
   "cell_type": "code",
   "execution_count": 7,
   "metadata": {
    "tags": []
   },
   "outputs": [
    {
     "output_type": "stream",
     "name": "stdout",
     "text": "esitler\n"
    }
   ],
   "source": [
    "a = set(\"selman\")\n",
    "b = set(\"namles\")\n",
    "if a == b:\n",
    "    print(\"esitler\")"
   ]
  },
  {
   "cell_type": "code",
   "execution_count": 8,
   "metadata": {
    "tags": []
   },
   "outputs": [
    {
     "output_type": "stream",
     "name": "stdout",
     "text": "100 cift rakam\n"
    }
   ],
   "source": [
    "rak = int(input('rakam girin :'))\n",
    "if rak % 2 == 0:\n",
    "    print(rak, \"cift rakam\")\n",
    "else:\n",
    "    print(rak, 'tek rakam')"
   ]
  },
  {
   "cell_type": "code",
   "execution_count": 11,
   "metadata": {
    "tags": []
   },
   "outputs": [
    {
     "output_type": "stream",
     "name": "stdout",
     "text": "-5.0 (-) negatif sayi\n"
    }
   ],
   "source": [
    "rak1 =float(input(\"rakam giriniz: \"))\n",
    "if rak1 > 0:\n",
    "    print(rak1, \"(+) pozitif sayi\")\n",
    "else:\n",
    "    print(rak1, \"(-) negatif sayi\")"
   ]
  },
  {
   "cell_type": "code",
   "execution_count": 17,
   "metadata": {
    "tags": []
   },
   "outputs": [
    {
     "output_type": "stream",
     "name": "stdout",
     "text": "stokta yok\n"
    }
   ],
   "source": [
    "model =\"ford\", \"fiat\", \"opel\", \"bmw\"\n",
    "ar = input(\"marka secin: \")\n",
    "if ar in model:\n",
    "    if ar == \"ford\":\n",
    "        print(\"ford sectin\")\n",
    "    elif ar == \"bmw\":\n",
    "        print(\"BMW sectin\")\n",
    "    else:\n",
    "        print(\"stokta yok\")\n",
    "else:\n",
    "    print(\"lutfen marka girin\")"
   ]
  },
  {
   "cell_type": "code",
   "execution_count": 29,
   "metadata": {
    "tags": []
   },
   "outputs": [
    {
     "output_type": "stream",
     "name": "stdout",
     "text": "Tesekkur\nYour Note: B\n"
    }
   ],
   "source": [
    "score = int(input(\"not girin :\"))\n",
    "Note = score\n",
    "if score >= 90:\n",
    "    print(\"Takdir\")\n",
    "    if score >=95:\n",
    "        Note = \"A+\"\n",
    "    else:\n",
    "        Note = \"A\"\n",
    "elif score >= 80:\n",
    "    print(\"Tesekkur\")\n",
    "    if score >=85:\n",
    "        Note = \"B+\"\n",
    "    else:\n",
    "        Note = \"B\"\n",
    "else:\n",
    "    Note = \"B-\"\n",
    "print (\"Your Note: %s\" % Note)"
   ]
  },
  {
   "cell_type": "code",
   "execution_count": 31,
   "metadata": {},
   "outputs": [
    {
     "output_type": "error",
     "ename": "SyntaxError",
     "evalue": "invalid syntax (<ipython-input-31-c6e91c3f8ae3>, line 3)",
     "traceback": [
      "\u001b[1;36m  File \u001b[1;32m\"<ipython-input-31-c6e91c3f8ae3>\"\u001b[1;36m, line \u001b[1;32m3\u001b[0m\n\u001b[1;33m    if i == [^^, &, ~]:\u001b[0m\n\u001b[1;37m             ^\u001b[0m\n\u001b[1;31mSyntaxError\u001b[0m\u001b[1;31m:\u001b[0m invalid syntax\n"
     ]
    }
   ],
   "source": [
    "sifre = input(\"sifre girin\")\n",
    "for i in sifre:\n",
    "    if i == [^^, &, ~]:\n",
    "        print(\"ozel karekter\")\n",
    "    else:\n",
    "        print(\"sifren\", sifre)"
   ]
  },
  {
   "cell_type": "code",
   "execution_count": null,
   "metadata": {},
   "outputs": [],
   "source": []
  }
 ]
}