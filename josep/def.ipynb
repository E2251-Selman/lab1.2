{
 "cells": [
  {
   "cell_type": "code",
   "execution_count": null,
   "metadata": {},
   "outputs": [],
   "source": [
    "def who(firs, last):\n",
    "    print('Your first name is :', first)\n",
    "    print('Your last name is :', last)\n",
    "    who('Guido', 'van Rossum')\n",
    "    print()\n",
    "    who('marry', 'Bold')"
   ]
  },
  {
   "cell_type": "code",
   "execution_count": null,
   "metadata": {},
   "outputs": [],
   "source": [
    "6+6"
   ]
  },
  {
   "cell_type": "code",
   "execution_count": null,
   "metadata": {
    "tags": []
   },
   "outputs": [],
   "source": [
    "def pos(a, b):\n",
    "    print(a, 'first')\n",
    "    print(b, 'second')\n",
    "pos(3, 4)\n",
    "print()\n",
    "pos(4, 3)"
   ]
  },
  {
   "cell_type": "code",
   "execution_count": 49,
   "metadata": {
    "tags": []
   },
   "outputs": [
    {
     "output_type": "stream",
     "name": "stdout",
     "text": "i love you\n"
    }
   ],
   "source": [
    "def texter(t1, t2, t3):\n",
    "    print(f\"{t3} {t2} {t1}\")\n",
    "a, b, c =(\"i\", \"love\", \"you\")\n",
    "texter(c, b, a)    \n",
    "    "
   ]
  },
  {
   "cell_type": "code",
   "execution_count": null,
   "metadata": {
    "tags": []
   },
   "outputs": [],
   "source": [
    "def texter(t1, t2, t3):\n",
    "    print(f\"{t3} {t2} {t1}\")\n",
    "texter =(t2=\"i\", t3=\"love\", t1=\"you\")\n",
    "texter\n"
   ]
  },
  {
   "cell_type": "code",
   "execution_count": null,
   "metadata": {},
   "outputs": [],
   "source": [
    "def parrot(voltage, state='a stiff', action='voom', type='Norwegian Blue'):\n",
    "    print(\"-- This parrot wouldn't\", action, end=' ')\n",
    "    print(\"if you put\", voltage, \"volts through it.\")\n",
    "    print(\"-- Lovely plumage, the\", type)\n",
    "    print(\"-- It's\", state, \"!\")"
   ]
  },
  {
   "cell_type": "code",
   "execution_count": null,
   "metadata": {
    "tags": []
   },
   "outputs": [],
   "source": [
    "parrot(voltage = 1453, action=\"BooMMm\")"
   ]
  },
  {
   "cell_type": "code",
   "execution_count": null,
   "metadata": {
    "tags": []
   },
   "outputs": [],
   "source": [
    "parrot(\"a thousand\", state=\"pushing\")"
   ]
  },
  {
   "cell_type": "code",
   "execution_count": null,
   "metadata": {},
   "outputs": [],
   "source": [
    "def function(a):\n",
    "    pass\n",
    "function(0, a=0)"
   ]
  },
  {
   "cell_type": "code",
   "execution_count": 48,
   "metadata": {
    "tags": []
   },
   "outputs": [
    {
     "output_type": "stream",
     "name": "stdout",
     "text": "even:  [2, 4, 6, 8, 10]\nodd:  [1, 3, 5, 7, 9]\n"
    }
   ],
   "source": [
    "def slicer(*num):\n",
    "    even = [i for i in num if i%2==0]\n",
    "    odd = [j for j in num if j%2!=0]\n",
    "    print(\"even: \", even)\n",
    "    print(\"odd: \" , odd)\n",
    "slicer(1,2,3,4,5,6,7,8,9,10)"
   ]
  },
  {
   "cell_type": "code",
   "execution_count": 53,
   "metadata": {},
   "outputs": [],
   "source": [
    "def organizer(**people):\n",
    "    name = []\n",
    "    age = []\n",
    "    for key, value in people.items():\n",
    "        name.append(key)\n",
    "        age.append(value)\n",
    "    print(name)\n",
    "    print(age)\n"
   ]
  },
  {
   "cell_type": "code",
   "execution_count": 54,
   "metadata": {
    "tags": []
   },
   "outputs": [
    {
     "output_type": "stream",
     "name": "stdout",
     "text": "['ahmet', 'mehmet', 'tulin', 'fatma']\n[33, 22, 44, 2]\n"
    }
   ],
   "source": [
    "organizer(ahmet = 33, mehmet = 22, tulin = 44, fatma = 2)"
   ]
  },
  {
   "cell_type": "code",
   "execution_count": 55,
   "metadata": {
    "tags": []
   },
   "outputs": [
    {
     "output_type": "stream",
     "name": "stdout",
     "text": "brother name s here\ntom\nsue\ntim\n"
    }
   ],
   "source": [
    "def brothers(bro1, bro2, bro3):\n",
    "    print(\"brother name s here\")\n",
    "    print(bro1, bro2, bro3, sep='\\n')\n",
    "family = ['tom', 'sue', 'tim']\n",
    "brothers(*family)"
   ]
  },
  {
   "cell_type": "code",
   "execution_count": 71,
   "metadata": {},
   "outputs": [],
   "source": [
    "def merge(nam1, nam2, nam3, nam4):\n",
    "    print(f\"for me, {nam1} {nam4} and {nam3} {nam4} are geniuses.\")\n",
    "genius = ('Bill', 'Rossum', 'Guido van', 'Gates')"
   ]
  },
  {
   "cell_type": "code",
   "execution_count": 72,
   "metadata": {
    "tags": []
   },
   "outputs": [
    {
     "output_type": "stream",
     "name": "stdout",
     "text": "for me, Bill Gates and Guido van Gates are geniuses.\n"
    }
   ],
   "source": [
    "merge(*genius)"
   ]
  },
  {
   "cell_type": "code",
   "execution_count": 73,
   "metadata": {
    "tags": []
   },
   "outputs": [
    {
     "output_type": "stream",
     "name": "stdout",
     "text": "ortalama yas:  46.0\n"
    }
   ],
   "source": [
    "def meaner(ali, veli, deli):\n",
    "    avg = (ali + veli + deli) / 3\n",
    "    print(\"ortalama yas: \", avg)\n",
    "friends = {'ali': 44, 'veli' : 39, 'deli': 55}\n",
    "meaner(**friends)\n"
   ]
  },
  {
   "cell_type": "code",
   "execution_count": 81,
   "metadata": {},
   "outputs": [],
   "source": [
    "damat_gelin = {\"f\" :[\"marry\", \"bella\", \"susan\"], \"m\":[\"fried\", \"paul\", \"bahadir\"]}"
   ]
  },
  {
   "cell_type": "code",
   "execution_count": 79,
   "metadata": {},
   "outputs": [],
   "source": [
    "def muruvvet(f, m):\n",
    "    x_list = []\n",
    "    for x in zip(f, m):\n",
    "        x_list.append(x)\n",
    "    return x_list"
   ]
  },
  {
   "cell_type": "code",
   "execution_count": 82,
   "metadata": {},
   "outputs": [
    {
     "output_type": "execute_result",
     "data": {
      "text/plain": "[('marry', 'fried'), ('bella', 'paul'), ('susan', 'bahadir')]"
     },
     "metadata": {},
     "execution_count": 82
    }
   ],
   "source": [
    "muruvvet(**damat_gelin)"
   ]
  },
  {
   "cell_type": "code",
   "execution_count": null,
   "metadata": {},
   "outputs": [],
   "source": []
  }
 ],
 "metadata": {
  "language_info": {
   "codemirror_mode": {
    "name": "ipython",
    "version": 3
   },
   "file_extension": ".py",
   "mimetype": "text/x-python",
   "name": "python",
   "nbconvert_exporter": "python",
   "pygments_lexer": "ipython3",
   "version": 3
  },
  "orig_nbformat": 2,
  "kernelspec": {
   "name": "python_defaultSpec_1594745298710",
   "display_name": "Python 3.8.2 32-bit"
  }
 },
 "nbformat": 4,
 "nbformat_minor": 2
}