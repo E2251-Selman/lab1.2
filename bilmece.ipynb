{
 "cells": [
  {
   "cell_type": "code",
   "execution_count": 15,
   "metadata": {
    "tags": []
   },
   "outputs": [
    {
     "output_type": "stream",
     "name": "stdout",
     "text": ">>> nar <<<   Tebrikler Bildin!\n"
    }
   ],
   "source": [
    "cev = \"nar\"\n",
    "\n",
    "sor = \"Carsidan aldim bir tane eve geldim Bintane nedir? :\"\n",
    "\n",
    "while True:\n",
    "    veri = str(input(sor)).strip().lower()\n",
    "\n",
    "    if veri != cev:\n",
    "        print(veri, \"Yanlis cevap!!!\")\n",
    "    else:\n",
    "        print(\">>>\",veri,\"<<<\", \" Tebrikler Bildin!\")\n",
    "        break"
   ]
  },
  {
   "cell_type": "code",
   "execution_count": null,
   "metadata": {},
   "outputs": [],
   "source": []
  },
  {
   "cell_type": "code",
   "execution_count": null,
   "metadata": {},
   "outputs": [],
   "source": []
  },
  {
   "cell_type": "code",
   "execution_count": null,
   "metadata": {},
   "outputs": [],
   "source": []
  }
 ],
 "metadata": {
  "language_info": {
   "codemirror_mode": {
    "name": "ipython",
    "version": 3
   },
   "file_extension": ".py",
   "mimetype": "text/x-python",
   "name": "python",
   "nbconvert_exporter": "python",
   "pygments_lexer": "ipython3",
   "version": 3
  },
  "orig_nbformat": 2,
  "kernelspec": {
   "name": "python_defaultSpec_1594219906876",
   "display_name": "Python 3.8.2 32-bit"
  }
 },
 "nbformat": 4,
 "nbformat_minor": 2
}