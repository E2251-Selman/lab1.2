{
 "cells": [
  {
   "cell_type": "code",
   "execution_count": 1,
   "metadata": {
    "tags": []
   },
   "outputs": [
    {
     "output_type": "stream",
     "name": "stdout",
     "text": "uzgunum sizi tanimadim: \nuzgunum sizi tanimadim: \nuzgunum sizi tanimadim: \nuzgunum sizi tanimadim: \nhosgeldin selman password:123456\n"
    }
   ],
   "source": [
    "cev = \"selman\"\n",
    "sor = \"possword icin isim girin\"\n",
    "while True:\n",
    "    veri = str(input(sor)).strip().lower()\n",
    "\n",
    "    if veri != cev:\n",
    "        print(\"uzgunum sizi tanimadim: \")\n",
    "    else:\n",
    "        print(\"hosgeldin\", veri, \"password:123456\")\n",
    "        break"
   ]
  },
  {
   "cell_type": "code",
   "execution_count": null,
   "metadata": {},
   "outputs": [],
   "source": []
  }
 ],
 "metadata": {
  "language_info": {
   "codemirror_mode": {
    "name": "ipython",
    "version": 3
   },
   "file_extension": ".py",
   "mimetype": "text/x-python",
   "name": "python",
   "nbconvert_exporter": "python",
   "pygments_lexer": "ipython3",
   "version": 3
  },
  "orig_nbformat": 2,
  "kernelspec": {
   "name": "python_defaultSpec_1594231146644",
   "display_name": "Python 3.8.2 32-bit"
  }
 },
 "nbformat": 4,
 "nbformat_minor": 2
}